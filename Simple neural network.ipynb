{
 "cells": [
  {
   "cell_type": "code",
   "execution_count": 2,
   "metadata": {},
   "outputs": [],
   "source": [
    "import h5py\n",
    "import os\n",
    "import math\n",
    "import numpy as np\n",
    "import struct as st\n",
    "from PIL import Image\n",
    "import uuid\n",
    "import matplotlib.pyplot as plt\n",
    "import tensorflow as tf\n",
    "from tensorflow.python.framework import ops\n",
    "import random\n",
    "from matplotlib import pyplot as plt\n",
    "from sklearn.preprocessing import MinMaxScaler"
   ]
  },
  {
   "cell_type": "code",
   "execution_count": 4,
   "metadata": {},
   "outputs": [
    {
     "name": "stdout",
     "output_type": "stream",
     "text": [
      "(60000, 28, 28) (60000,) (10000, 28, 28) (10000,)\n"
     ]
    }
   ],
   "source": [
    "# Load dataset and transform them into input vectors\n",
    "train_file = open('Data/MNIST dataset/train-images-idx3-ubyte', 'rb')\n",
    "train_file_labels = open('Data/MNIST dataset/train-labels-idx1-ubyte', 'rb')\n",
    "test_file = open('Data/MNIST dataset/t10k-images-idx3-ubyte', 'rb')\n",
    "test_file_labels = open('Data/MNIST dataset/t10k-labels-idx1-ubyte', 'rb')\n",
    "\n",
    "#Vectorizing training images\n",
    "train_file.seek(0)\n",
    "magic_training = st.unpack('>4B',train_file.read(4))\n",
    "img_num = st.unpack('>I',train_file.read(4))[0]\n",
    "rows = st.unpack('>I',train_file.read(4))[0]\n",
    "columns = st.unpack('>I',train_file.read(4))[0]\n",
    "x_train = np.zeros((img_num,rows,columns))\n",
    "train_file.seek(16)\n",
    "x_train = np.asarray(st.unpack('>' + 'B'*img_num*rows*columns, train_file.read(img_num*rows*columns))).reshape(img_num, rows, columns)\n",
    "\n",
    "#Vectorizing training labels\n",
    "train_file_labels.seek(0)\n",
    "magic_training_label = st.unpack('>4B', train_file_labels.read(4))\n",
    "num_labels = st.unpack('>I', train_file_labels.read(4))[0]\n",
    "y_train = np.zeros((num_labels, 1))\n",
    "y_train = np.asarray(st.unpack('>' + 'B'*num_labels, train_file_labels.read(num_labels)))\n",
    "\n",
    "#Vectorizing test set images\n",
    "test_file.seek(0)\n",
    "magic_training = st.unpack('>4B',test_file.read(4))\n",
    "img_num = st.unpack('>I',test_file.read(4))[0]\n",
    "rows = st.unpack('>I',test_file.read(4))[0]\n",
    "columns = st.unpack('>I',test_file.read(4))[0]\n",
    "x_test = np.zeros((img_num,rows,columns))\n",
    "test_file.seek(16)\n",
    "x_test = np.asarray(st.unpack('>' + 'B'*img_num*rows*columns, test_file.read(img_num*rows*columns))).reshape(img_num, rows, columns)\n",
    "x_test1 = x_test\n",
    "#Vectorizing test set labels\n",
    "test_file_labels .seek(0)\n",
    "magic_training_label = st.unpack('>4B', test_file_labels .read(4))\n",
    "num_labels = st.unpack('>I', test_file_labels .read(4))[0]\n",
    "y_test = np.zeros((num_labels, 1))\n",
    "y_test = np.asarray(st.unpack('>' + 'B'*num_labels, test_file_labels.read(num_labels)))\n",
    "y_test1 = y_test\n",
    "print(x_train.shape, y_train.shape, x_test.shape, y_test.shape)"
   ]
  },
  {
   "cell_type": "code",
   "execution_count": 5,
   "metadata": {},
   "outputs": [
    {
     "name": "stdout",
     "output_type": "stream",
     "text": [
      "(60000, 784)\n",
      "(10000, 784)\n",
      "(60000, 10)\n",
      "(10000, 10)\n"
     ]
    }
   ],
   "source": [
    "#Flatten arrays\n",
    "x_train = np.reshape(x_train, (60000, 28*28), 'C')\n",
    "x_test = np.reshape(x_test, (10000, 28*28), 'C')\n",
    "\n",
    "#Scale data\n",
    "scaler = MinMaxScaler()\n",
    "x_train_scaled = scaler.fit_transform(x_train.astype(np.float64))\n",
    "x_test_scaled = scaler.fit_transform(x_test.astype(np.float64))\n",
    "\n",
    "#Create one hot vectors\n",
    "y_train = np.identity(10)[y_train]\n",
    "y_test = np.identity(10)[y_test]\n",
    "\n",
    "#Create placeholder\n",
    "x_train = x_train_scaled\n",
    "print(x_train.shape)\n",
    "x_test = x_test_scaled\n",
    "print(x_test.shape)\n",
    "y_train = y_train\n",
    "print(y_train.shape)\n",
    "y_test = y_test\n",
    "print(y_test.shape)\n",
    "\n",
    "\n"
   ]
  },
  {
   "cell_type": "code",
   "execution_count": 6,
   "metadata": {},
   "outputs": [
    {
     "name": "stdout",
     "output_type": "stream",
     "text": [
      "60000 784\n"
     ]
    }
   ],
   "source": [
    "(n_x, m) = (x_train).shape     \n",
    "print(n_x, m)"
   ]
  },
  {
   "cell_type": "markdown",
   "metadata": {},
   "source": [
    "Building Neural network"
   ]
  },
  {
   "cell_type": "markdown",
   "metadata": {},
   "source": [
    "Step 1: Design NN architecture"
   ]
  },
  {
   "cell_type": "code",
   "execution_count": 7,
   "metadata": {},
   "outputs": [],
   "source": [
    "def nn_ff(x):\n",
    "    layer1 = tf.layers.dense(inputs = x, units = 40, activation = 'relu', name = 'layer1')\n",
    "    layer2 = tf.layers.dense(inputs = layer1, units = 70, activation = 'relu', name = 'layer2')\n",
    "    layer3 = tf.layers.dense(inputs = layer2, units = 25, activation = 'relu', name = 'layer3')\n",
    "    y_out= tf.layers.dense(inputs = layer3, units = 10, activation = None, name = 'layer4')\n",
    "\n",
    "    return y_out"
   ]
  },
  {
   "cell_type": "code",
   "execution_count": 8,
   "metadata": {},
   "outputs": [],
   "source": [
    "def compute_cost(y_labeled, y_predicted):\n",
    "    print(\"Inside compute_cost\")\n",
    "    print(\"y_predicted\", y_predicted.shape)\n",
    "    print(\"y_labeled\", y_labeled.shape)\n",
    "    cost = tf.reduce_mean(tf.nn.softmax_cross_entropy_with_logits(logits = y_predicted + 1e-8, labels = y_labeled))\n",
    "    return cost\n",
    "        \n"
   ]
  },
  {
   "cell_type": "code",
   "execution_count": 9,
   "metadata": {},
   "outputs": [],
   "source": [
    "def mini_batches(x_train, y_train, mini_batch_size):\n",
    "    \n",
    "    m = x_train.shape[0]\n",
    "    num_of_complete_mini_batches = math.floor(m/(mini_batch_size))\n",
    "    mini_batches = []\n",
    "    \n",
    "    for k in range(0, num_of_complete_mini_batches):\n",
    "        mini_batch_x = x_train[k * mini_batch_size : k * mini_batch_size + mini_batch_size, :]\n",
    "        mini_batch_y= y_train[k * mini_batch_size : k * mini_batch_size + mini_batch_size, :]\n",
    "        mini_batch = (mini_batch_x, mini_batch_y)\n",
    "        mini_batches.append(mini_batch)\n",
    "   \n",
    "    if m % mini_batch_size != 0:\n",
    "        mini_batch_x = x_train[num_of_complete_mini_batches * mini_batch_size : m, :]\n",
    "        mini_batch_y = y_train[num_of_complete_mini_batches * mini_batch_size : m, :]\n",
    "        mini_batch = (mini_batch_x, mini_batch_y)\n",
    "        mini_batches.append(mini_batch)\n",
    "    \n",
    "    \n",
    "    return mini_batches\n",
    "    \n",
    "    "
   ]
  },
  {
   "cell_type": "markdown",
   "metadata": {},
   "source": [
    "Build model"
   ]
  },
  {
   "cell_type": "code",
   "execution_count": 10,
   "metadata": {},
   "outputs": [],
   "source": [
    "def model(x_train, y_train, x_test, y_test, learning_rate = 0.001, num_epochs = 100, minibatch_size = 512, print_cost = True):\n",
    "    \n",
    "    print(\"x_train\", x_train.shape[1])\n",
    "    print(\"y_train\", y_train.shape[1])\n",
    "    print(\"x_test\", x_test.shape[1])\n",
    "    print(\"y_test\", y_test.shape[1])\n",
    "    ops.reset_default_graph()                         # to be able to rerun the model without overwriting tf variables                            # to keep consistent results\n",
    "    (m, n_x) = x_train.shape                          # (n_x: input size, m : number of examples in the train set)\n",
    "    print(\"m\",m)\n",
    "    n_y = y_train.shape[0]                            # n_y : output size\n",
    "    costs = []                                        # To keep track of the cost  \n",
    "    \n",
    " \n",
    "\n",
    "    \n",
    "    #Create placeholders and a Saver\n",
    "    X = tf.placeholder(tf.float32, shape=(None, x_train.shape[1]), name = 'inputdata') \n",
    "    Y = tf.placeholder(tf.float32, shape=(None, y_train.shape[1]))\n",
    "    \n",
    "    \n",
    "    y_predicted = nn_ff(X)\n",
    "    print(\"y_predicted type\", y_predicted)\n",
    "    cost = compute_cost(Y, y_predicted)\n",
    "    \n",
    "    #Initialize parameters and define optimizer\n",
    "    optimizer = tf.train.AdamOptimizer(learning_rate = learning_rate).minimize(cost)\n",
    "    \n",
    "    #Define accuracy\n",
    "    acc = tf.equal(tf.argmax(y_predicted, axis=1), tf.argmax(Y, axis=1))\n",
    "    acc = tf.reduce_mean(tf.cast(acc, dtype=tf.float32))\n",
    "    \n",
    "    with tf.Session() as sess:\n",
    "        \n",
    "        #Initialize variables\n",
    "        sess.run(tf.global_variables_initializer())\n",
    "        saver = tf.train.Saver()\n",
    "        \n",
    "        #Training loop\n",
    "        for epoch in range(num_epochs):\n",
    "            \n",
    "            \n",
    "            \n",
    "            epoch_cost = 0.          # Defines a cost related to an epoch\n",
    "            num_minibatches = int(m / minibatch_size) # number of minibatches of size minibatch_size in the train set\n",
    "            minibatches = mini_batches(x_train, y_train, minibatch_size)\n",
    "            \n",
    "            for minibatch in minibatches:\n",
    "\n",
    "                (minibatch_X, minibatch_Y) = minibatch\n",
    "            \n",
    "                _ , minibatch_cost = sess.run([optimizer, cost], feed_dict = {X: minibatch_X, Y: minibatch_Y})\n",
    "                \n",
    "                epoch_cost = epoch_cost + minibatch_cost / num_minibatches\n",
    "                \n",
    "            if print_cost == True and epoch % 10 == 0:\n",
    "                print (\"Cost after epoch %i: %f\" % (epoch, epoch_cost))\n",
    "                print(\"Train performance: \", sess.run([acc], feed_dict={X: minibatch_X, Y: minibatch_Y}))\n",
    "                print(\"Test performance: \", sess.run([acc], feed_dict={X: x_test, Y: y_test}))\n",
    "            if print_cost == True:\n",
    "                costs.append(epoch_cost)\n",
    "                \n",
    "            \n",
    "             \n",
    "                 \n",
    "        #Plot the cost\n",
    "        plt.plot(np.squeeze(costs))\n",
    "        plt.ylabel('cost')\n",
    "        plt.xlabel('iterations (per fives)')\n",
    "        plt.title(\"Learning rate =\" + str(learning_rate))\n",
    "        plt.show()\n",
    "\n",
    "        #Extracting weights ?????\n",
    "        #Testing accuracy ?????\n",
    "        \n",
    "        saver.save(sess, 'model/snn')\n",
    "        \n",
    "        \n",
    "        sess.close()\n",
    "    \n",
    "    \n",
    "    \n",
    "        \n",
    "\n",
    "    \n",
    "    \n",
    "            \n",
    "        \n",
    "        \n",
    "        \n",
    "    \n",
    "    \n",
    "    "
   ]
  },
  {
   "cell_type": "code",
   "execution_count": 11,
   "metadata": {
    "scrolled": true
   },
   "outputs": [
    {
     "name": "stdout",
     "output_type": "stream",
     "text": [
      "x_train 784\n",
      "y_train 10\n",
      "x_test 784\n",
      "y_test 10\n",
      "m 60000\n",
      "WARNING:tensorflow:From <ipython-input-7-cd4daf7014f0>:2: dense (from tensorflow.python.layers.core) is deprecated and will be removed in a future version.\n",
      "Instructions for updating:\n",
      "Use keras.layers.dense instead.\n",
      "WARNING:tensorflow:From /usr/local/lib/python3.6/dist-packages/tensorflow/python/ops/init_ops.py:1251: calling VarianceScaling.__init__ (from tensorflow.python.ops.init_ops) with dtype is deprecated and will be removed in a future version.\n",
      "Instructions for updating:\n",
      "Call initializer instance with the dtype argument instead of passing it to the constructor\n",
      "WARNING:tensorflow:Entity <bound method Dense.call of <tensorflow.python.layers.core.Dense object at 0x7f1edd5862b0>> could not be transformed and will be executed as-is. Please report this to the AutgoGraph team. When filing the bug, set the verbosity to 10 (on Linux, `export AUTOGRAPH_VERBOSITY=10`) and attach the full output. Cause: converting <bound method Dense.call of <tensorflow.python.layers.core.Dense object at 0x7f1edd5862b0>>: AssertionError: Bad argument number for Name: 3, expecting 4\n",
      "WARNING: Entity <bound method Dense.call of <tensorflow.python.layers.core.Dense object at 0x7f1edd5862b0>> could not be transformed and will be executed as-is. Please report this to the AutgoGraph team. When filing the bug, set the verbosity to 10 (on Linux, `export AUTOGRAPH_VERBOSITY=10`) and attach the full output. Cause: converting <bound method Dense.call of <tensorflow.python.layers.core.Dense object at 0x7f1edd5862b0>>: AssertionError: Bad argument number for Name: 3, expecting 4\n",
      "WARNING:tensorflow:Entity <bound method Dense.call of <tensorflow.python.layers.core.Dense object at 0x7f1edd5862b0>> could not be transformed and will be executed as-is. Please report this to the AutgoGraph team. When filing the bug, set the verbosity to 10 (on Linux, `export AUTOGRAPH_VERBOSITY=10`) and attach the full output. Cause: converting <bound method Dense.call of <tensorflow.python.layers.core.Dense object at 0x7f1edd5862b0>>: AssertionError: Bad argument number for Name: 3, expecting 4\n",
      "WARNING: Entity <bound method Dense.call of <tensorflow.python.layers.core.Dense object at 0x7f1edd5862b0>> could not be transformed and will be executed as-is. Please report this to the AutgoGraph team. When filing the bug, set the verbosity to 10 (on Linux, `export AUTOGRAPH_VERBOSITY=10`) and attach the full output. Cause: converting <bound method Dense.call of <tensorflow.python.layers.core.Dense object at 0x7f1edd5862b0>>: AssertionError: Bad argument number for Name: 3, expecting 4\n",
      "WARNING:tensorflow:Entity <bound method Dense.call of <tensorflow.python.layers.core.Dense object at 0x7f1edd5862b0>> could not be transformed and will be executed as-is. Please report this to the AutgoGraph team. When filing the bug, set the verbosity to 10 (on Linux, `export AUTOGRAPH_VERBOSITY=10`) and attach the full output. Cause: converting <bound method Dense.call of <tensorflow.python.layers.core.Dense object at 0x7f1edd5862b0>>: AssertionError: Bad argument number for Name: 3, expecting 4\n",
      "WARNING: Entity <bound method Dense.call of <tensorflow.python.layers.core.Dense object at 0x7f1edd5862b0>> could not be transformed and will be executed as-is. Please report this to the AutgoGraph team. When filing the bug, set the verbosity to 10 (on Linux, `export AUTOGRAPH_VERBOSITY=10`) and attach the full output. Cause: converting <bound method Dense.call of <tensorflow.python.layers.core.Dense object at 0x7f1edd5862b0>>: AssertionError: Bad argument number for Name: 3, expecting 4\n",
      "WARNING:tensorflow:Entity <bound method Dense.call of <tensorflow.python.layers.core.Dense object at 0x7f1f245110f0>> could not be transformed and will be executed as-is. Please report this to the AutgoGraph team. When filing the bug, set the verbosity to 10 (on Linux, `export AUTOGRAPH_VERBOSITY=10`) and attach the full output. Cause: converting <bound method Dense.call of <tensorflow.python.layers.core.Dense object at 0x7f1f245110f0>>: AssertionError: Bad argument number for Name: 3, expecting 4\n",
      "WARNING: Entity <bound method Dense.call of <tensorflow.python.layers.core.Dense object at 0x7f1f245110f0>> could not be transformed and will be executed as-is. Please report this to the AutgoGraph team. When filing the bug, set the verbosity to 10 (on Linux, `export AUTOGRAPH_VERBOSITY=10`) and attach the full output. Cause: converting <bound method Dense.call of <tensorflow.python.layers.core.Dense object at 0x7f1f245110f0>>: AssertionError: Bad argument number for Name: 3, expecting 4\n",
      "y_predicted type Tensor(\"layer4/BiasAdd:0\", shape=(?, 10), dtype=float32)\n",
      "Inside compute_cost\n",
      "y_predicted (?, 10)\n",
      "y_labeled (?, 10)\n",
      "WARNING:tensorflow:From <ipython-input-8-f34c08d19ba4>:5: softmax_cross_entropy_with_logits (from tensorflow.python.ops.nn_ops) is deprecated and will be removed in a future version.\n",
      "Instructions for updating:\n",
      "\n",
      "Future major versions of TensorFlow will allow gradients to flow\n",
      "into the labels input on backprop by default.\n",
      "\n",
      "See `tf.nn.softmax_cross_entropy_with_logits_v2`.\n",
      "\n",
      "Cost after epoch 0: 0.859870\n",
      "Train performance:  [0.8645833]\n",
      "Test performance:  [0.9009]\n",
      "Cost after epoch 10: 0.096165\n",
      "Train performance:  [0.9895833]\n",
      "Test performance:  [0.966]\n",
      "Cost after epoch 20: 0.055275\n",
      "Train performance:  [1.0]\n",
      "Test performance:  [0.9692]\n",
      "Cost after epoch 30: 0.035063\n",
      "Train performance:  [1.0]\n",
      "Test performance:  [0.9669]\n",
      "Cost after epoch 40: 0.025763\n",
      "Train performance:  [1.0]\n",
      "Test performance:  [0.9691]\n",
      "Cost after epoch 50: 0.022760\n",
      "Train performance:  [1.0]\n",
      "Test performance:  [0.9629]\n",
      "Cost after epoch 60: 0.008474\n",
      "Train performance:  [1.0]\n",
      "Test performance:  [0.965]\n",
      "Cost after epoch 70: 0.009244\n",
      "Train performance:  [1.0]\n",
      "Test performance:  [0.9661]\n",
      "Cost after epoch 80: 0.003825\n",
      "Train performance:  [1.0]\n",
      "Test performance:  [0.9679]\n",
      "Cost after epoch 90: 0.007706\n",
      "Train performance:  [1.0]\n",
      "Test performance:  [0.9675]\n"
     ]
    },
    {
     "data": {
      "image/png": "[encoded data removed]",
      "text/plain": [
       "<Figure size 432x288 with 1 Axes>"
      ]
     },
     "metadata": {
      "needs_background": "light"
     },
     "output_type": "display_data"
    }
   ],
   "source": [
    "model(x_train, y_train, x_test, y_test, num_epochs = 100)"
   ]
  },
  {
   "cell_type": "code",
   "execution_count": 12,
   "metadata": {},
   "outputs": [
    {
     "name": "stdout",
     "output_type": "stream",
     "text": [
      "WARNING:tensorflow:From /usr/local/lib/python3.6/dist-packages/tensorflow/python/training/saver.py:1276: checkpoint_exists (from tensorflow.python.training.checkpoint_management) is deprecated and will be removed in a future version.\n",
      "Instructions for updating:\n",
      "Use standard file APIs to check for files with this prefix.\n",
      "INFO:tensorflow:Restoring parameters from model/snn\n",
      "0.9688\n"
     ]
    }
   ],
   "source": [
    "ops.reset_default_graph() \n",
    "\n",
    "Y = tf.placeholder(tf.float32, shape=(None, y_test.shape[1]))\n",
    "with tf.Session() as sess:\n",
    "    imported_graph = tf.train.import_meta_graph('model/snn.meta')\n",
    "    imported_graph.restore(sess, tf.train.latest_checkpoint('model/'))\n",
    "    \n",
    "    graph = tf.get_default_graph()\n",
    "    \n",
    "    inputs = graph.get_tensor_by_name('inputdata:0')\n",
    "    output = graph.get_tensor_by_name('layer4/BiasAdd:0')\n",
    "    y_predicted = tf.nn.softmax(output)\n",
    "    acc = tf.equal(tf.argmax(y_predicted, axis=1), tf.argmax(Y, axis=1))\n",
    "    acc = tf.reduce_mean(tf.cast(acc, dtype=tf.float32))\n",
    "    \n",
    "    \n",
    "    \n",
    "    accuracy = sess.run(acc, feed_dict = {inputs : x_test, Y : y_test})\n",
    "    print(accuracy)\n",
    "\n",
    "    \n",
    "    \n"
   ]
  },
  {
   "cell_type": "code",
   "execution_count": 28,
   "metadata": {},
   "outputs": [
    {
     "name": "stdout",
     "output_type": "stream",
     "text": [
      "INFO:tensorflow:Restoring parameters from model/snn\n",
      "Prediction : [7]\n",
      "Label : 7\n"
     ]
    },
    {
     "data": {
      "image/png": "[encoded data removed]",
      "text/plain": [
       "<Figure size 432x288 with 1 Axes>"
      ]
     },
     "metadata": {
      "needs_background": "light"
     },
     "output_type": "display_data"
    }
   ],
   "source": [
    "ops.reset_default_graph() \n",
    "rn = np.random.randint(0,9999)\n",
    "with tf.Session() as sess:\n",
    "    imported_graph = tf.train.import_meta_graph('model/snn.meta')\n",
    "    imported_graph.restore(sess, tf.train.latest_checkpoint('model/'))\n",
    "    \n",
    "    graph = tf.get_default_graph()\n",
    "    \n",
    "    inputs = graph.get_tensor_by_name('inputdata:0')\n",
    "    output = graph.get_tensor_by_name('layer4/BiasAdd:0')\n",
    "    y_predicted = tf.argmax(tf.nn.softmax(output), axis = 1)\n",
    "    \n",
    "    \n",
    "    one_prediction = sess.run(y_predicted, feed_dict = {inputs : np.expand_dims(x_test[rn], axis = 0)})\n",
    "    print(\"Prediction :\", one_prediction)\n",
    "    print(\"Label :\", np.argmax(y_test[rn]))\n",
    "    \n",
    "    \n",
    "plt.imshow(x_test1[rn])\n",
    "plt.show()"
   ]
  },
  {
   "cell_type": "code",
   "execution_count": null,
   "metadata": {},
   "outputs": [],
   "source": []
  }
 ],
 "metadata": {
  "kernelspec": {
   "display_name": "Python 3",
   "language": "python",
   "name": "python3"
  },
  "language_info": {
   "codemirror_mode": {
    "name": "ipython",
    "version": 3
   },
   "file_extension": ".py",
   "mimetype": "text/x-python",
   "name": "python",
   "nbconvert_exporter": "python",
   "pygments_lexer": "ipython3",
   "version": "3.6.9"
  }
 },
 "nbformat": 4,
 "nbformat_minor": 1
}
